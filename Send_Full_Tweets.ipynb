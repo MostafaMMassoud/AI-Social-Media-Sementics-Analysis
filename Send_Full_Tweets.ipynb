{
 "cells": [
  {
   "cell_type": "code",
   "execution_count": 1,
   "id": "8f7957d7",
   "metadata": {},
   "outputs": [],
   "source": [
    "import json\n",
    "import boto3\n",
    "import time\n"
   ]
  },
  {
   "cell_type": "code",
   "execution_count": 2,
   "id": "e660a933",
   "metadata": {},
   "outputs": [],
   "source": [
    "# Reading tweets\n",
    "with open('../tweets.json','r',encoding='utf-8') as f:\n",
    "    full_tweets = json.load(f)"
   ]
  },
  {
   "cell_type": "code",
   "execution_count": 3,
   "id": "fbc1d7ec",
   "metadata": {},
   "outputs": [],
   "source": [
    "# Create a kinesis client\n",
    "client = boto3.client(\n",
    "    'firehose',\n",
    "    region_name='us-east-1',\n",
    "    aws_access_key_id='Enter Your Access Key ID',\n",
    "    aws_secret_access_key='Enter Your Secret Access Key',\n",
    ")\n",
    "\n",
    "c=0"
   ]
  },
  {
   "cell_type": "code",
   "execution_count": 4,
   "id": "d58a9d58",
   "metadata": {
    "scrolled": false
   },
   "outputs": [
    {
     "name": "stdout",
     "output_type": "stream",
     "text": [
      "Start Next Batch From 0 to 500\n",
      "...... Done!\n",
      "Sending Data to Firehose...\n",
      "Batch Number 0 Sent Successfully.\n",
      "--------------------\n",
      "Start Next Batch From 500 to 1000\n",
      "...... Done!\n",
      "Sending Data to Firehose...\n",
      "Batch Number 1 Sent Successfully.\n",
      "--------------------\n"
     ]
    }
   ],
   "source": [
    "# Preprocess tweet and sending them to firehose\n",
    "batch_size = 500\n",
    "\n",
    "for i in range(10500,len(full_tweets),batch_size):\n",
    "    print(f'Start Next Batch From {i} to {i+batch_size}')\n",
    "    time.sleep(1)\n",
    "    batch_tweets = full_tweets[i:i+batch_size]\n",
    "    \n",
    "    batch_request = []\n",
    "    print('Loading',end='')\n",
    "    dot=0\n",
    "    for tweet in batch_tweets:\n",
    "        if dot in range(0,500,100):\n",
    "            print('.',end='')\n",
    "            time.sleep(1)\n",
    "            \n",
    "        # Unpacking as it is unreadable by quicksight\n",
    "        tweet['lat'],tweet['lon'] = tweet['tweet_coord']\n",
    "        del tweet['tweet_coord']\n",
    "        \n",
    "        # Encoding tweet string to bytes.\n",
    "        tweet_payload = json.dumps(tweet) + '\\n'\n",
    "        encoded_tweet_payload = tweet_payload.encode('utf-8')\n",
    "        batch_request.append({'Data':encoded_tweet_payload})\n",
    "        dot+=1\n",
    "        \n",
    "    print(' Done!')\n",
    "    print('Sending Data to Firehose...')\n",
    "    response = client.put_record_batch(\n",
    "            DeliveryStreamName = \"Tweets-Ingest\",\n",
    "            Records = batch_request)\n",
    "    \n",
    "    \n",
    "    print(f'Batch Number {c} Sent Successfully.')\n",
    "    print('-'*20)\n",
    "    time.sleep(5)\n",
    "    c+=1\n"
   ]
  },
  {
   "cell_type": "code",
   "execution_count": null,
   "id": "4523ce24",
   "metadata": {},
   "outputs": [],
   "source": []
  }
 ],
 "metadata": {
  "kernelspec": {
   "display_name": "Python 3",
   "language": "python",
   "name": "python3"
  },
  "language_info": {
   "codemirror_mode": {
    "name": "ipython",
    "version": 3
   },
   "file_extension": ".py",
   "mimetype": "text/x-python",
   "name": "python",
   "nbconvert_exporter": "python",
   "pygments_lexer": "ipython3",
   "version": "3.8.8"
  }
 },
 "nbformat": 4,
 "nbformat_minor": 5
}
